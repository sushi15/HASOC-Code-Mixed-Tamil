{
  "nbformat": 4,
  "nbformat_minor": 0,
  "metadata": {
    "colab": {
      "name": "hasoc tamil.ipynb",
      "provenance": [],
      "collapsed_sections": [],
      "include_colab_link": true
    },
    "kernelspec": {
      "name": "python3",
      "display_name": "Python 3"
    },
    "language_info": {
      "name": "python"
    },
    "accelerator": "GPU"
  },
  "cells": [
    {
      "cell_type": "markdown",
      "metadata": {
        "id": "view-in-github",
        "colab_type": "text"
      },
      "source": [
        "<a href=\"https://colab.research.google.com/github/sushi15/HASOC-Code-Mixed-Tamil/blob/main/hasoc_tamil.ipynb\" target=\"_parent\"><img src=\"https://colab.research.google.com/assets/colab-badge.svg\" alt=\"Open In Colab\"/></a>"
      ]
    },
    {
      "cell_type": "markdown",
      "metadata": {
        "id": "3hvNf1RPZ33G"
      },
      "source": [
        "# Imports"
      ]
    },
    {
      "cell_type": "code",
      "metadata": {
        "id": "FeNaeJSRFmmV",
        "colab": {
          "base_uri": "https://localhost:8080/"
        },
        "outputId": "3e322a3f-bc7a-4310-aad3-229d3f410adf"
      },
      "source": [
        "import itertools\n",
        "import os\n",
        "\n",
        "import matplotlib.pylab as plt \n",
        "from matplotlib import pyplot\n",
        "import numpy as np \n",
        "import pandas as pd \n",
        "\n",
        "import tensorflow as tf\n",
        "import tensorflow_hub as hub \n",
        "from tensorflow.keras.utils import to_categorical \n",
        "from tensorflow.keras.callbacks import ModelCheckpoint \n",
        "\n",
        "import keras \n",
        "from keras.models import Model\n",
        "from keras import models\n",
        "from keras import layers\n",
        "from keras import optimizers \n",
        "from tensorflow.python.keras.layers import Dense, Embedding, GlobalMaxPool1D, Dropout\n",
        "from tensorflow.python.keras import Sequential \n",
        "from tensorflow.keras.layers import InputLayer\n",
        "\n",
        "import random \n",
        "import re\n",
        "import nltk\n",
        "nltk.download('punkt', 'stopwords')\n",
        "from nltk.corpus import stopwords\n",
        "from nltk.tokenize import word_tokenize\n",
        "from nltk.stem.lancaster import LancasterStemmer\n",
        "lancaster_stemmer = LancasterStemmer()\n",
        "from nltk.stem import WordNetLemmatizer\n",
        "wordnet_lemmatizer = WordNetLemmatizer() \n",
        "\n",
        "from sklearn.preprocessing import LabelEncoder\n",
        "\n",
        "from pydrive.auth import GoogleAuth\n",
        "from pydrive.drive import GoogleDrive\n",
        "from google.colab import auth\n",
        "from oauth2client.client import GoogleCredentials\n",
        "\n",
        "auth.authenticate_user()\n",
        "gauth = GoogleAuth()\n",
        "gauth.credentials = GoogleCredentials.get_application_default()\n",
        "drive = GoogleDrive(gauth) "
      ],
      "execution_count": null,
      "outputs": [
        {
          "output_type": "stream",
          "text": [
            "[nltk_data] Downloading package punkt to stopwords...\n",
            "[nltk_data]   Package punkt is already up-to-date!\n"
          ],
          "name": "stdout"
        }
      ]
    },
    {
      "cell_type": "markdown",
      "metadata": {
        "id": "13DQecDRZ6dN"
      },
      "source": [
        "## Loading the data"
      ]
    },
    {
      "cell_type": "code",
      "metadata": {
        "id": "ji_L61aPJ2Da"
      },
      "source": [
        "#Dataset\n",
        "\n",
        "downloaded = drive.CreateFile({'id':\"1f30jPPclwN1dJ8Syht_j6DT4xRjq-1AN\"}) \n",
        "downloaded.GetContentFile('tamil_offensive_train.tsv') "
      ],
      "execution_count": null,
      "outputs": []
    },
    {
      "cell_type": "code",
      "metadata": {
        "id": "8jGk0iDfpmJy"
      },
      "source": [
        "#Dataset\n",
        "\n",
        "downloaded = drive.CreateFile({'id':\"1-iWGGx6fDvoh9YUjw4igil24ipwF4ZPl\"}) \n",
        "downloaded.GetContentFile('tamil_offensive_withoutlabels_test.tsv.csv') "
      ],
      "execution_count": null,
      "outputs": []
    },
    {
      "cell_type": "code",
      "metadata": {
        "id": "blUA7h_mNP-e"
      },
      "source": [
        "train_data = pd.read_csv('tamil_offensive_train.tsv', sep='\\t', header=0, encoding=\"utf-8\") #Dataframe"
      ],
      "execution_count": null,
      "outputs": []
    },
    {
      "cell_type": "code",
      "metadata": {
        "id": "CEwP51fFp6_f"
      },
      "source": [
        "test_data = pd.read_csv('tamil_offensive_withoutlabels_test.tsv.csv', sep='\\t', header=0, encoding=\"utf-8\") #Dataframe"
      ],
      "execution_count": null,
      "outputs": []
    },
    {
      "cell_type": "code",
      "metadata": {
        "colab": {
          "base_uri": "https://localhost:8080/"
        },
        "id": "HAsBOtpSkiFf",
        "outputId": "098142c1-c21b-4b3d-a9b1-4d6e9e455427"
      },
      "source": [
        "train_data['category'].value_counts()"
      ],
      "execution_count": null,
      "outputs": [
        {
          "output_type": "execute_result",
          "data": {
            "text/plain": [
              "NOT          4724\n",
              "OFF          1153\n",
              "not-Tamil       3\n",
              "Name: category, dtype: int64"
            ]
          },
          "metadata": {
            "tags": []
          },
          "execution_count": 6
        }
      ]
    },
    {
      "cell_type": "code",
      "metadata": {
        "id": "MLxlxmgsmMH9"
      },
      "source": [
        "le = LabelEncoder()\n",
        "train_data['category'] = le.fit_transform(train_data['category']) "
      ],
      "execution_count": null,
      "outputs": []
    },
    {
      "cell_type": "code",
      "metadata": {
        "colab": {
          "base_uri": "https://localhost:8080/"
        },
        "id": "nh33IuvamhS0",
        "outputId": "83f93ffc-40c5-4763-bd60-bbdb6f597dfd"
      },
      "source": [
        "train_data['category'].value_counts()"
      ],
      "execution_count": null,
      "outputs": [
        {
          "output_type": "execute_result",
          "data": {
            "text/plain": [
              "0    4724\n",
              "1    1153\n",
              "2       3\n",
              "Name: category, dtype: int64"
            ]
          },
          "metadata": {
            "tags": []
          },
          "execution_count": 8
        }
      ]
    },
    {
      "cell_type": "code",
      "metadata": {
        "colab": {
          "base_uri": "https://localhost:8080/"
        },
        "id": "P7Ke_J0PYyq8",
        "outputId": "5edb17cb-083e-467f-95e0-bcffbf1f21db"
      },
      "source": [
        "y_train = train_data['category'].values \n",
        "y_train = to_categorical(y_train) \n",
        "y_train.shape "
      ],
      "execution_count": null,
      "outputs": [
        {
          "output_type": "execute_result",
          "data": {
            "text/plain": [
              "(5880, 3)"
            ]
          },
          "metadata": {
            "tags": []
          },
          "execution_count": 9
        }
      ]
    },
    {
      "cell_type": "code",
      "metadata": {
        "id": "noX_Y1l9V4Jb"
      },
      "source": [
        "x_train = train_data['text'].values.tolist()"
      ],
      "execution_count": null,
      "outputs": []
    },
    {
      "cell_type": "code",
      "metadata": {
        "id": "zXG9pQGWXN6w",
        "colab": {
          "base_uri": "https://localhost:8080/"
        },
        "outputId": "c42f5a71-f88f-4a10-d018-81851cb1e9a7"
      },
      "source": [
        "y_train"
      ],
      "execution_count": null,
      "outputs": [
        {
          "output_type": "execute_result",
          "data": {
            "text/plain": [
              "array([[1., 0., 0.],\n",
              "       [0., 1., 0.],\n",
              "       [1., 0., 0.],\n",
              "       ...,\n",
              "       [1., 0., 0.],\n",
              "       [0., 1., 0.],\n",
              "       [1., 0., 0.]], dtype=float32)"
            ]
          },
          "metadata": {
            "tags": []
          },
          "execution_count": 11
        }
      ]
    },
    {
      "cell_type": "code",
      "metadata": {
        "id": "Iocy9t4sXSjg"
      },
      "source": [
        "# x_train"
      ],
      "execution_count": null,
      "outputs": []
    },
    {
      "cell_type": "code",
      "metadata": {
        "id": "04RWLBV7qCHA"
      },
      "source": [
        "x_test = test_data['text'].values.tolist()"
      ],
      "execution_count": null,
      "outputs": []
    },
    {
      "cell_type": "code",
      "metadata": {
        "id": "S4lLtno3R5Y1"
      },
      "source": [
        "# x_test"
      ],
      "execution_count": null,
      "outputs": []
    },
    {
      "cell_type": "markdown",
      "metadata": {
        "id": "cc6rshImaENw"
      },
      "source": [
        "# Preprocessing"
      ]
    },
    {
      "cell_type": "code",
      "metadata": {
        "colab": {
          "base_uri": "https://localhost:8080/"
        },
        "id": "hE8FMlS8RW4M",
        "outputId": "91939708-da4c-42b4-fd30-23a3d21a5e93"
      },
      "source": [
        "type(x_train)"
      ],
      "execution_count": null,
      "outputs": [
        {
          "output_type": "execute_result",
          "data": {
            "text/plain": [
              "list"
            ]
          },
          "metadata": {
            "tags": []
          },
          "execution_count": 15
        }
      ]
    },
    {
      "cell_type": "code",
      "metadata": {
        "id": "0S6UhT_4r9hS"
      },
      "source": [
        "from keras.preprocessing.text import Tokenizer\n",
        "\n",
        "tokenizer = Tokenizer(num_words = 5000) \n",
        "tokenizer.fit_on_texts(x_train)\n",
        "\n",
        "x_train = tokenizer.texts_to_sequences(x_train)\n",
        "# x_val = tokenizer.texts_to_sequences(x_val)\n",
        "x_test = tokenizer.texts_to_sequences(x_test)\n",
        "\n",
        "vocab_size = len(tokenizer.word_index) + 1  # Adding 1 because of reserved 0 index\n"
      ],
      "execution_count": null,
      "outputs": []
    },
    {
      "cell_type": "code",
      "metadata": {
        "id": "XdTBW5N-sR4j"
      },
      "source": [
        "from keras.preprocessing.sequence import pad_sequences\n",
        "\n",
        "max = 100\n",
        "\n",
        "x_train = pad_sequences(x_train, padding = 'post', maxlen = max)\n",
        "# x_val = pad_sequences(x_val, padding = 'post', maxlen = max)\n",
        "x_test = pad_sequences(x_test, padding = 'post', maxlen = max)"
      ],
      "execution_count": null,
      "outputs": []
    },
    {
      "cell_type": "code",
      "metadata": {
        "id": "lFUJjxsqY8E3",
        "colab": {
          "base_uri": "https://localhost:8080/"
        },
        "outputId": "1973bf2d-96a4-4ca8-c09c-08a73a60190d"
      },
      "source": [
        "training_set_size = 4000 #@param {type:\"slider\", min:0, max:5880, step:1000}\n",
        "x_val = x_train[training_set_size:, :]\n",
        "x_train = x_train[:training_set_size, :] \n",
        "y_val = y_train[training_set_size:, :] \n",
        "y_train = y_train[:training_set_size, :] \n",
        "\n",
        "print(x_val.shape) \n",
        "print(x_train.shape)\n",
        "print(y_val.shape) \n",
        "print(y_train.shape)"
      ],
      "execution_count": null,
      "outputs": [
        {
          "output_type": "stream",
          "text": [
            "(1880, 100)\n",
            "(4000, 100)\n",
            "(1880, 3)\n",
            "(4000, 3)\n"
          ],
          "name": "stdout"
        }
      ]
    },
    {
      "cell_type": "code",
      "metadata": {
        "colab": {
          "base_uri": "https://localhost:8080/"
        },
        "id": "zzngHUM3YxEf",
        "outputId": "95e2e7c9-c184-423a-8bcb-8088ccddc24b"
      },
      "source": [
        "x_train.shape"
      ],
      "execution_count": null,
      "outputs": [
        {
          "output_type": "execute_result",
          "data": {
            "text/plain": [
              "(4000, 100)"
            ]
          },
          "metadata": {
            "tags": []
          },
          "execution_count": 19
        }
      ]
    },
    {
      "cell_type": "code",
      "metadata": {
        "colab": {
          "base_uri": "https://localhost:8080/"
        },
        "id": "zkL1haQOb5AS",
        "outputId": "2300fdba-96df-43ad-9f22-f326fb1a8eb4"
      },
      "source": [
        "x_val.shape"
      ],
      "execution_count": null,
      "outputs": [
        {
          "output_type": "execute_result",
          "data": {
            "text/plain": [
              "(1880, 100)"
            ]
          },
          "metadata": {
            "tags": []
          },
          "execution_count": 20
        }
      ]
    },
    {
      "cell_type": "code",
      "metadata": {
        "colab": {
          "base_uri": "https://localhost:8080/"
        },
        "id": "Oa55RGtQtCEt",
        "outputId": "c6ce970c-cbc4-45a1-a1d8-23a74cbcb7c7"
      },
      "source": [
        "print(x_train[0, :])"
      ],
      "execution_count": null,
      "outputs": [
        {
          "output_type": "stream",
          "text": [
            "[4175  205  153    3    1    4    6    2    0    0    0    0    0    0\n",
            "    0    0    0    0    0    0    0    0    0    0    0    0    0    0\n",
            "    0    0    0    0    0    0    0    0    0    0    0    0    0    0\n",
            "    0    0    0    0    0    0    0    0    0    0    0    0    0    0\n",
            "    0    0    0    0    0    0    0    0    0    0    0    0    0    0\n",
            "    0    0    0    0    0    0    0    0    0    0    0    0    0    0\n",
            "    0    0    0    0    0    0    0    0    0    0    0    0    0    0\n",
            "    0    0]\n"
          ],
          "name": "stdout"
        }
      ]
    },
    {
      "cell_type": "code",
      "metadata": {
        "colab": {
          "base_uri": "https://localhost:8080/"
        },
        "id": "IMC4rfKOtB89",
        "outputId": "cf8a8006-1cc5-4423-d623-3fbcc9ebc2c8"
      },
      "source": [
        "print(x_test[0, :])"
      ],
      "execution_count": null,
      "outputs": [
        {
          "output_type": "stream",
          "text": [
            "[ 386  995   86  386 1209    0    0    0    0    0    0    0    0    0\n",
            "    0    0    0    0    0    0    0    0    0    0    0    0    0    0\n",
            "    0    0    0    0    0    0    0    0    0    0    0    0    0    0\n",
            "    0    0    0    0    0    0    0    0    0    0    0    0    0    0\n",
            "    0    0    0    0    0    0    0    0    0    0    0    0    0    0\n",
            "    0    0    0    0    0    0    0    0    0    0    0    0    0    0\n",
            "    0    0    0    0    0    0    0    0    0    0    0    0    0    0\n",
            "    0    0]\n"
          ],
          "name": "stdout"
        }
      ]
    },
    {
      "cell_type": "markdown",
      "metadata": {
        "id": "9fTFIQ7GbD9C"
      },
      "source": [
        "# Defining the model"
      ]
    },
    {
      "cell_type": "code",
      "metadata": {
        "id": "eAJsnIpGeONC"
      },
      "source": [
        "BATCH_SIZE = 512 #@param {type:\"slider\", min:0, max:512, step:2}"
      ],
      "execution_count": null,
      "outputs": []
    },
    {
      "cell_type": "code",
      "metadata": {
        "id": "LdZZ8HPVeONE"
      },
      "source": [
        "EPOCH_SIZE = 25 #@param {type:\"integer\"}"
      ],
      "execution_count": null,
      "outputs": []
    },
    {
      "cell_type": "code",
      "metadata": {
        "id": "13R9VL24bDJ-"
      },
      "source": [
        "input_dim = x_train.shape[1]"
      ],
      "execution_count": null,
      "outputs": []
    },
    {
      "cell_type": "code",
      "metadata": {
        "id": "Yz9CJEnSW7-d"
      },
      "source": [
        "embedding_dim = 50\n",
        "# vocab_size = len(vectorizer.vocabulary_)\n",
        "\n",
        "model = Sequential() \n",
        "model.add(InputLayer(input_shape = (x_train.shape[1]))) \n",
        "# model.add(Dropout(0.35))\n",
        "model.add(Embedding(input_dim = vocab_size, output_dim = embedding_dim, input_length = max))\n",
        "# model.add(layers.Flatten()) \n",
        "# model.add(Dropout(0.2))\n",
        "model.add(GlobalMaxPool1D()) \n",
        "model.add(Dropout(0.2)) \n",
        "model.add(Dense(10, input_dim = input_dim, activation='relu')) \n",
        "# model.add(Dropout(0.2))\n",
        "model.add(Dense(3, activation='sigmoid')) "
      ],
      "execution_count": null,
      "outputs": []
    },
    {
      "cell_type": "code",
      "metadata": {
        "id": "a7kUEJAmdRD0"
      },
      "source": [
        "model.compile(loss = keras.losses.categorical_crossentropy,\n",
        "              optimizer = keras.optimizers.Adam(),\n",
        "              metrics = ['accuracy'])"
      ],
      "execution_count": null,
      "outputs": []
    },
    {
      "cell_type": "code",
      "metadata": {
        "colab": {
          "base_uri": "https://localhost:8080/"
        },
        "id": "T19dZaxFdLNQ",
        "outputId": "53462f2c-2cd9-4a95-f924-f35ed4ba570b"
      },
      "source": [
        "model.summary()"
      ],
      "execution_count": null,
      "outputs": [
        {
          "output_type": "stream",
          "text": [
            "Model: \"sequential_4\"\n",
            "_________________________________________________________________\n",
            "Layer (type)                 Output Shape              Param #   \n",
            "=================================================================\n",
            "embedding_4 (Embedding)      (None, 100, 50)           1060300   \n",
            "_________________________________________________________________\n",
            "global_max_pooling1d_4 (Glob (None, 50)                0         \n",
            "_________________________________________________________________\n",
            "dropout_3 (Dropout)          (None, 50)                0         \n",
            "_________________________________________________________________\n",
            "dense_8 (Dense)              (None, 10)                510       \n",
            "_________________________________________________________________\n",
            "dense_9 (Dense)              (None, 3)                 33        \n",
            "=================================================================\n",
            "Total params: 1,060,843\n",
            "Trainable params: 1,060,843\n",
            "Non-trainable params: 0\n",
            "_________________________________________________________________\n"
          ],
          "name": "stdout"
        }
      ]
    },
    {
      "cell_type": "markdown",
      "metadata": {
        "id": "ZiihzIL9rNQo"
      },
      "source": [
        "# Training"
      ]
    },
    {
      "cell_type": "code",
      "metadata": {
        "colab": {
          "base_uri": "https://localhost:8080/"
        },
        "id": "78WQfOAXeAo3",
        "outputId": "bd942767-040e-4ada-d32e-bab81eff4293"
      },
      "source": [
        "history=model.fit(x_train, y_train, \n",
        "                  steps_per_epoch = y_train.shape[0] // BATCH_SIZE, \n",
        "                  epochs = EPOCH_SIZE, \n",
        "                  validation_data = (x_val, y_val), \n",
        "                  batch_size = BATCH_SIZE, \n",
        "                  validation_steps = y_val.shape[0] // BATCH_SIZE,\n",
        "                    )"
      ],
      "execution_count": null,
      "outputs": [
        {
          "output_type": "stream",
          "text": [
            "Epoch 1/25\n",
            "7/7 [==============================] - 1s 41ms/step - loss: 1.0729 - accuracy: 0.7126 - val_loss: 1.0484 - val_accuracy: 0.8099\n",
            "Epoch 2/25\n",
            "7/7 [==============================] - 0s 22ms/step - loss: 1.0310 - accuracy: 0.7987 - val_loss: 1.0096 - val_accuracy: 0.8105\n",
            "Epoch 3/25\n",
            "7/7 [==============================] - 0s 22ms/step - loss: 0.9886 - accuracy: 0.8036 - val_loss: 0.9685 - val_accuracy: 0.8105\n",
            "Epoch 4/25\n",
            "7/7 [==============================] - 0s 22ms/step - loss: 0.9464 - accuracy: 0.7976 - val_loss: 0.9255 - val_accuracy: 0.8105\n",
            "Epoch 5/25\n",
            "7/7 [==============================] - 0s 24ms/step - loss: 0.9024 - accuracy: 0.8005 - val_loss: 0.8808 - val_accuracy: 0.8105\n",
            "Epoch 6/25\n",
            "7/7 [==============================] - 0s 21ms/step - loss: 0.8563 - accuracy: 0.8033 - val_loss: 0.8348 - val_accuracy: 0.8105\n",
            "Epoch 7/25\n",
            "7/7 [==============================] - 0s 21ms/step - loss: 0.8117 - accuracy: 0.7979 - val_loss: 0.7880 - val_accuracy: 0.8105\n",
            "Epoch 8/25\n",
            "7/7 [==============================] - 0s 23ms/step - loss: 0.7638 - accuracy: 0.8007 - val_loss: 0.7414 - val_accuracy: 0.8105\n",
            "Epoch 9/25\n",
            "7/7 [==============================] - 0s 21ms/step - loss: 0.7183 - accuracy: 0.7977 - val_loss: 0.6962 - val_accuracy: 0.8105\n",
            "Epoch 10/25\n",
            "7/7 [==============================] - 0s 21ms/step - loss: 0.6705 - accuracy: 0.8019 - val_loss: 0.6536 - val_accuracy: 0.8105\n",
            "Epoch 11/25\n",
            "7/7 [==============================] - 0s 23ms/step - loss: 0.6267 - accuracy: 0.8036 - val_loss: 0.6152 - val_accuracy: 0.8105\n",
            "Epoch 12/25\n",
            "7/7 [==============================] - 0s 20ms/step - loss: 0.5944 - accuracy: 0.7996 - val_loss: 0.5818 - val_accuracy: 0.8105\n",
            "Epoch 13/25\n",
            "7/7 [==============================] - 0s 21ms/step - loss: 0.5591 - accuracy: 0.8007 - val_loss: 0.5535 - val_accuracy: 0.8105\n",
            "Epoch 14/25\n",
            "7/7 [==============================] - 0s 20ms/step - loss: 0.5289 - accuracy: 0.8022 - val_loss: 0.5301 - val_accuracy: 0.8105\n",
            "Epoch 15/25\n",
            "7/7 [==============================] - 0s 22ms/step - loss: 0.5101 - accuracy: 0.7959 - val_loss: 0.5106 - val_accuracy: 0.8105\n",
            "Epoch 16/25\n",
            "7/7 [==============================] - 0s 23ms/step - loss: 0.4784 - accuracy: 0.8045 - val_loss: 0.4941 - val_accuracy: 0.8105\n",
            "Epoch 17/25\n",
            "7/7 [==============================] - 0s 21ms/step - loss: 0.4625 - accuracy: 0.8011 - val_loss: 0.4798 - val_accuracy: 0.8105\n",
            "Epoch 18/25\n",
            "7/7 [==============================] - 0s 22ms/step - loss: 0.4443 - accuracy: 0.7996 - val_loss: 0.4672 - val_accuracy: 0.8105\n",
            "Epoch 19/25\n",
            "7/7 [==============================] - 0s 21ms/step - loss: 0.4217 - accuracy: 0.8025 - val_loss: 0.4558 - val_accuracy: 0.8105\n",
            "Epoch 20/25\n",
            "7/7 [==============================] - 0s 22ms/step - loss: 0.4015 - accuracy: 0.7996 - val_loss: 0.4454 - val_accuracy: 0.8105\n",
            "Epoch 21/25\n",
            "7/7 [==============================] - 0s 23ms/step - loss: 0.3795 - accuracy: 0.8171 - val_loss: 0.4358 - val_accuracy: 0.8092\n",
            "Epoch 22/25\n",
            "7/7 [==============================] - 0s 21ms/step - loss: 0.3733 - accuracy: 0.8136 - val_loss: 0.4273 - val_accuracy: 0.8118\n",
            "Epoch 23/25\n",
            "7/7 [==============================] - 0s 23ms/step - loss: 0.3552 - accuracy: 0.8283 - val_loss: 0.4194 - val_accuracy: 0.8158\n",
            "Epoch 24/25\n",
            "7/7 [==============================] - 0s 22ms/step - loss: 0.3291 - accuracy: 0.8670 - val_loss: 0.4108 - val_accuracy: 0.8236\n",
            "Epoch 25/25\n",
            "7/7 [==============================] - 0s 21ms/step - loss: 0.3082 - accuracy: 0.8965 - val_loss: 0.4041 - val_accuracy: 0.8275\n"
          ],
          "name": "stdout"
        }
      ]
    },
    {
      "cell_type": "markdown",
      "metadata": {
        "id": "fJV5kPyOpM_3"
      },
      "source": [
        "# Plots "
      ]
    },
    {
      "cell_type": "code",
      "metadata": {
        "id": "6qMGDpSLpO3Z",
        "colab": {
          "base_uri": "https://localhost:8080/"
        },
        "outputId": "16f9b332-fbdd-4a8b-c3cd-043eb4a71afa"
      },
      "source": [
        "print(history.history.keys())"
      ],
      "execution_count": null,
      "outputs": [
        {
          "output_type": "stream",
          "text": [
            "dict_keys(['loss', 'accuracy', 'val_loss', 'val_accuracy'])\n"
          ],
          "name": "stdout"
        }
      ]
    },
    {
      "cell_type": "code",
      "metadata": {
        "id": "nscaHksDpT3c",
        "colab": {
          "base_uri": "https://localhost:8080/",
          "height": 545
        },
        "outputId": "dc18de44-4273-4408-af56-30af32cb42c3"
      },
      "source": [
        "acc = history.history['accuracy']\n",
        "val_acc = history.history['val_accuracy']\n",
        "loss = history.history['loss']\n",
        "val_loss = history.history['val_loss']\n",
        "epochs = range(1, len(acc) + 1)\n",
        "\n",
        "plt.title('Accuracy')\n",
        "plt.plot(epochs, acc, 'purple', label='Training Accuracy')\n",
        "plt.plot(epochs, val_acc, 'green', label = 'Validation Accuracy')\n",
        "plt.legend()\n",
        "\n",
        "plt.figure()\n",
        "plt.title('Loss')\n",
        "plt.plot(epochs, loss, 'purple', label = 'Training Loss')\n",
        "plt.plot(epochs, val_loss, 'green', label = 'Validation Loss')\n",
        "\n",
        "plt.legend()\n",
        "\n",
        "plt.show()"
      ],
      "execution_count": null,
      "outputs": [
        {
          "output_type": "display_data",
          "data": {
            "image/png": "[encoded data removed]",
            "text/plain": [
              "<Figure size 432x288 with 1 Axes>"
            ]
          },
          "metadata": {
            "tags": [],
            "needs_background": "light"
          }
        },
        {
          "output_type": "display_data",
          "data": {
            "image/png": "[encoded data removed]",
            "text/plain": [
              "<Figure size 432x288 with 1 Axes>"
            ]
          },
          "metadata": {
            "tags": [],
            "needs_background": "light"
          }
        }
      ]
    },
    {
      "cell_type": "markdown",
      "metadata": {
        "id": "PSXooWcSaCNM"
      },
      "source": [
        "# Predictions"
      ]
    },
    {
      "cell_type": "code",
      "metadata": {
        "id": "Zp1Y0SuWS_s1"
      },
      "source": [
        "predictions = model.predict(x_test)"
      ],
      "execution_count": null,
      "outputs": []
    },
    {
      "cell_type": "code",
      "metadata": {
        "colab": {
          "base_uri": "https://localhost:8080/"
        },
        "id": "m5ybIuA3UDrs",
        "outputId": "d90b5267-63e4-4dba-92ee-bfb85e276898"
      },
      "source": [
        "predictions"
      ],
      "execution_count": null,
      "outputs": [
        {
          "output_type": "execute_result",
          "data": {
            "text/plain": [
              "array([[0.8299044 , 0.30966574, 0.07208166],\n",
              "       [0.86344767, 0.21344341, 0.0534878 ],\n",
              "       [0.77926993, 0.42792174, 0.09184191],\n",
              "       ...,\n",
              "       [0.76261425, 0.6656275 , 0.06344661],\n",
              "       [0.8642203 , 0.21195124, 0.05318445],\n",
              "       [0.75382423, 0.5251867 , 0.10111348]], dtype=float32)"
            ]
          },
          "metadata": {
            "tags": []
          },
          "execution_count": 68
        }
      ]
    },
    {
      "cell_type": "code",
      "metadata": {
        "id": "Ebn2BglXUEXm"
      },
      "source": [
        ""
      ],
      "execution_count": null,
      "outputs": []
    }
  ]
}